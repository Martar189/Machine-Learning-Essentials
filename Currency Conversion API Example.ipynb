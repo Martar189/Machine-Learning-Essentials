{
 "cells": [
  {
   "cell_type": "code",
   "execution_count": 64,
   "metadata": {},
   "outputs": [],
   "source": [
    "#Import libraries\n",
    "\n",
    "import requests\n",
    "import json\n",
    "import pandas as pd"
   ]
  },
  {
   "cell_type": "markdown",
   "metadata": {},
   "source": [
    "# Exchange rates API\n",
    "\n",
    "Exchange rates API is a free service for current and historical foreign exchange rates \n",
    "published by the European Central Bank\n",
    "\n",
    "https://exchangeratesapi.io/"
   ]
  },
  {
   "cell_type": "markdown",
   "metadata": {},
   "source": [
    "# GET Requests\n",
    "\n",
    "\n",
    "\n",
    "## What is HTTP?\n",
    "HTTP is a set of protocols designed to enable communication between clients and servers. It works as a request-response protocol between a client and server. \n",
    "\n",
    "A web browser may be the client, and an application on a computer that hosts a web site may be the server.\n",
    "\n",
    "To request a response from the server, there are mainly two methods:\n",
    "\n",
    "    GET : to request data from the server.\n",
    "    POST : to submit data to be processed to the server.\n",
    "\n",
    "Besides GET and POST, there are several other common methods depending on the API\n",
    "\n"
   ]
  },
  {
   "cell_type": "markdown",
   "metadata": {},
   "source": [
    "To make a GET request, invoke requests.get()."
   ]
  },
  {
   "cell_type": "code",
   "execution_count": 7,
   "metadata": {},
   "outputs": [],
   "source": [
    "response = requests.get(url = 'https://api.exchangeratesapi.io/latest')"
   ]
  },
  {
   "cell_type": "markdown",
   "metadata": {},
   "source": [
    "To make a GET request, invoke requests.get()."
   ]
  },
  {
   "cell_type": "code",
   "execution_count": 8,
   "metadata": {},
   "outputs": [
    {
     "data": {
      "text/plain": [
       "<Response [200]>"
      ]
     },
     "execution_count": 8,
     "metadata": {},
     "output_type": "execute_result"
    }
   ],
   "source": [
    "response "
   ]
  },
  {
   "cell_type": "markdown",
   "metadata": {},
   "source": [
    "## Request Status\n",
    "This object has an status code that indicates what is happpened with that request. Note that different APIs have different request codes so please check the API documentation for details"
   ]
  },
  {
   "cell_type": "code",
   "execution_count": 23,
   "metadata": {},
   "outputs": [],
   "source": [
    "def get_status(my_response):\n",
    "    if my_response.status_code == 200:\n",
    "        print('Success!')\n",
    "    elif my_response.status_code == 404:\n",
    "        print('Not Found.')"
   ]
  },
  {
   "cell_type": "code",
   "execution_count": 24,
   "metadata": {},
   "outputs": [
    {
     "name": "stdout",
     "output_type": "stream",
     "text": [
      "Success!\n"
     ]
    }
   ],
   "source": [
    "get_status(response)"
   ]
  },
  {
   "cell_type": "markdown",
   "metadata": {},
   "source": [
    "If the request is successful the response object includes a very useful function response.json() will contain the data you where trying to get"
   ]
  },
  {
   "cell_type": "markdown",
   "metadata": {},
   "source": [
    "## Content\n",
    "The response of a GET request often has some valuable information, known as a payload, in the message body. Using the attributes and methods of Response, you can view the payload in a variety of different formats."
   ]
  },
  {
   "cell_type": "code",
   "execution_count": 13,
   "metadata": {},
   "outputs": [
    {
     "data": {
      "text/plain": [
       "'{\"base\":\"EUR\",\"rates\":{\"BGN\":1.9558,\"NZD\":1.7134,\"ILS\":4.0505,\"RUB\":72.9053,\"CAD\":1.5115,\"USD\":1.1151,\"PHP\":58.225,\"CHF\":1.1214,\"ZAR\":16.3834,\"AUD\":1.6136,\"JPY\":121.27,\"TRY\":6.527,\"HKD\":8.7457,\"MYR\":4.6747,\"THB\":35.282,\"HRK\":7.4185,\"NOK\":9.7915,\"IDR\":15982.17,\"DKK\":7.468,\"CZK\":25.816,\"HUF\":324.34,\"GBP\":0.88693,\"MXN\":21.8922,\"KRW\":1328.31,\"ISK\":138.3,\"SGD\":1.5378,\"BRL\":4.4462,\"PLN\":4.2843,\"INR\":77.741,\"RON\":4.743,\"CNY\":7.7045,\"SEK\":10.639},\"date\":\"2019-05-31\"}'"
      ]
     },
     "execution_count": 13,
     "metadata": {},
     "output_type": "execute_result"
    }
   ],
   "source": [
    "response.text"
   ]
  },
  {
   "cell_type": "code",
   "execution_count": 14,
   "metadata": {},
   "outputs": [
    {
     "data": {
      "text/plain": [
       "b'{\"base\":\"EUR\",\"rates\":{\"BGN\":1.9558,\"NZD\":1.7134,\"ILS\":4.0505,\"RUB\":72.9053,\"CAD\":1.5115,\"USD\":1.1151,\"PHP\":58.225,\"CHF\":1.1214,\"ZAR\":16.3834,\"AUD\":1.6136,\"JPY\":121.27,\"TRY\":6.527,\"HKD\":8.7457,\"MYR\":4.6747,\"THB\":35.282,\"HRK\":7.4185,\"NOK\":9.7915,\"IDR\":15982.17,\"DKK\":7.468,\"CZK\":25.816,\"HUF\":324.34,\"GBP\":0.88693,\"MXN\":21.8922,\"KRW\":1328.31,\"ISK\":138.3,\"SGD\":1.5378,\"BRL\":4.4462,\"PLN\":4.2843,\"INR\":77.741,\"RON\":4.743,\"CNY\":7.7045,\"SEK\":10.639},\"date\":\"2019-05-31\"}'"
      ]
     },
     "execution_count": 14,
     "metadata": {},
     "output_type": "execute_result"
    }
   ],
   "source": [
    "response.content"
   ]
  },
  {
   "cell_type": "markdown",
   "metadata": {},
   "source": [
    "If you take a look at the response, you’ll see that it is actually serialized JSON content. To get a dictionary, you could take the str you retrieved from .text and deserialize it using json.loads(). However, a simpler way to accomplish this task is to use .json():"
   ]
  },
  {
   "cell_type": "code",
   "execution_count": 15,
   "metadata": {},
   "outputs": [
    {
     "data": {
      "text/plain": [
       "{'base': 'EUR',\n",
       " 'rates': {'BGN': 1.9558,\n",
       "  'NZD': 1.7134,\n",
       "  'ILS': 4.0505,\n",
       "  'RUB': 72.9053,\n",
       "  'CAD': 1.5115,\n",
       "  'USD': 1.1151,\n",
       "  'PHP': 58.225,\n",
       "  'CHF': 1.1214,\n",
       "  'ZAR': 16.3834,\n",
       "  'AUD': 1.6136,\n",
       "  'JPY': 121.27,\n",
       "  'TRY': 6.527,\n",
       "  'HKD': 8.7457,\n",
       "  'MYR': 4.6747,\n",
       "  'THB': 35.282,\n",
       "  'HRK': 7.4185,\n",
       "  'NOK': 9.7915,\n",
       "  'IDR': 15982.17,\n",
       "  'DKK': 7.468,\n",
       "  'CZK': 25.816,\n",
       "  'HUF': 324.34,\n",
       "  'GBP': 0.88693,\n",
       "  'MXN': 21.8922,\n",
       "  'KRW': 1328.31,\n",
       "  'ISK': 138.3,\n",
       "  'SGD': 1.5378,\n",
       "  'BRL': 4.4462,\n",
       "  'PLN': 4.2843,\n",
       "  'INR': 77.741,\n",
       "  'RON': 4.743,\n",
       "  'CNY': 7.7045,\n",
       "  'SEK': 10.639},\n",
       " 'date': '2019-05-31'}"
      ]
     },
     "execution_count": 15,
     "metadata": {},
     "output_type": "execute_result"
    }
   ],
   "source": [
    "response.json()"
   ]
  },
  {
   "cell_type": "markdown",
   "metadata": {},
   "source": [
    "As you can see json looks very much like a dictionary in python"
   ]
  },
  {
   "cell_type": "code",
   "execution_count": 16,
   "metadata": {},
   "outputs": [],
   "source": [
    "json_response = response.json()"
   ]
  },
  {
   "cell_type": "markdown",
   "metadata": {},
   "source": [
    "And you can access the different 'entries' in the same way, using the headers for each entry"
   ]
  },
  {
   "cell_type": "code",
   "execution_count": 17,
   "metadata": {},
   "outputs": [
    {
     "data": {
      "text/plain": [
       "{'BGN': 1.9558,\n",
       " 'NZD': 1.7134,\n",
       " 'ILS': 4.0505,\n",
       " 'RUB': 72.9053,\n",
       " 'CAD': 1.5115,\n",
       " 'USD': 1.1151,\n",
       " 'PHP': 58.225,\n",
       " 'CHF': 1.1214,\n",
       " 'ZAR': 16.3834,\n",
       " 'AUD': 1.6136,\n",
       " 'JPY': 121.27,\n",
       " 'TRY': 6.527,\n",
       " 'HKD': 8.7457,\n",
       " 'MYR': 4.6747,\n",
       " 'THB': 35.282,\n",
       " 'HRK': 7.4185,\n",
       " 'NOK': 9.7915,\n",
       " 'IDR': 15982.17,\n",
       " 'DKK': 7.468,\n",
       " 'CZK': 25.816,\n",
       " 'HUF': 324.34,\n",
       " 'GBP': 0.88693,\n",
       " 'MXN': 21.8922,\n",
       " 'KRW': 1328.31,\n",
       " 'ISK': 138.3,\n",
       " 'SGD': 1.5378,\n",
       " 'BRL': 4.4462,\n",
       " 'PLN': 4.2843,\n",
       " 'INR': 77.741,\n",
       " 'RON': 4.743,\n",
       " 'CNY': 7.7045,\n",
       " 'SEK': 10.639}"
      ]
     },
     "execution_count": 17,
     "metadata": {},
     "output_type": "execute_result"
    }
   ],
   "source": [
    "json_response['rates']"
   ]
  },
  {
   "cell_type": "markdown",
   "metadata": {},
   "source": [
    "# Passing Parameters In URLs\n",
    "You often want to send some sort of data in the URL’s query string. If you were constructing the URL by hand, this data would be given as key/value pairs in the URL after a question mark, e.g. httpbin.org/get?key=val. Requests allows you to provide these arguments as a dictionary of strings, using the params keyword argument. "
   ]
  },
  {
   "cell_type": "markdown",
   "metadata": {},
   "source": [
    "In our example rates are quoted against the Euro by default. Quote against a different currency by setting the base parameter in your request."
   ]
  },
  {
   "cell_type": "code",
   "execution_count": 20,
   "metadata": {},
   "outputs": [],
   "source": [
    "fx_url = 'https://api.exchangeratesapi.io/latest'\n",
    "parameters = {'base':'USD' }"
   ]
  },
  {
   "cell_type": "code",
   "execution_count": 21,
   "metadata": {},
   "outputs": [],
   "source": [
    "response = requests.get(url=fx_url, params=parameters)"
   ]
  },
  {
   "cell_type": "code",
   "execution_count": 25,
   "metadata": {},
   "outputs": [
    {
     "name": "stdout",
     "output_type": "stream",
     "text": [
      "Success!\n"
     ]
    }
   ],
   "source": [
    "get_status(response)"
   ]
  },
  {
   "cell_type": "code",
   "execution_count": 26,
   "metadata": {},
   "outputs": [],
   "source": [
    "usd_data = response.json()"
   ]
  },
  {
   "cell_type": "code",
   "execution_count": 27,
   "metadata": {},
   "outputs": [
    {
     "data": {
      "text/plain": [
       "{'base': 'USD',\n",
       " 'rates': {'BGN': 1.7539234149,\n",
       "  'NZD': 1.5365438077,\n",
       "  'ILS': 3.6324096494,\n",
       "  'RUB': 65.3800556004,\n",
       "  'CAD': 1.3554838131,\n",
       "  'USD': 1.0,\n",
       "  'PHP': 52.2150479778,\n",
       "  'CHF': 1.0056497175,\n",
       "  'AUD': 1.4470451081,\n",
       "  'JPY': 108.7525782441,\n",
       "  'TRY': 5.8532867007,\n",
       "  'HKD': 7.8429737243,\n",
       "  'MYR': 4.1921800735,\n",
       "  'HRK': 6.652766568,\n",
       "  'CZK': 23.1512868801,\n",
       "  'IDR': 14332.4993274146,\n",
       "  'DKK': 6.6971572056,\n",
       "  'NOK': 8.7808268317,\n",
       "  'HUF': 290.861806116,\n",
       "  'GBP': 0.7953815801,\n",
       "  'MXN': 19.6324993274,\n",
       "  'THB': 31.6402116402,\n",
       "  'ISK': 124.0247511434,\n",
       "  'ZAR': 14.6923145906,\n",
       "  'BRL': 3.9872657161,\n",
       "  'SGD': 1.3790691418,\n",
       "  'PLN': 3.8420769438,\n",
       "  'INR': 69.7166173437,\n",
       "  'KRW': 1191.202582728,\n",
       "  'RON': 4.2534301856,\n",
       "  'CNY': 6.9092458076,\n",
       "  'SEK': 9.5408483544,\n",
       "  'EUR': 0.8967805578},\n",
       " 'date': '2019-05-31'}"
      ]
     },
     "execution_count": 27,
     "metadata": {},
     "output_type": "execute_result"
    }
   ],
   "source": [
    "usd_data"
   ]
  },
  {
   "cell_type": "markdown",
   "metadata": {},
   "source": [
    "You can also specify a list of parameters...the list of currencies for example\n",
    "    "
   ]
  },
  {
   "cell_type": "code",
   "execution_count": 46,
   "metadata": {},
   "outputs": [],
   "source": [
    "fx_url = 'https://api.exchangeratesapi.io/latest'\n",
    "parameters = {'base': 'GBP',\n",
    "              'symbols':'EUR,USD,JPY'}\n",
    "response = requests.get(url= fx_url, params=parameters)"
   ]
  },
  {
   "cell_type": "code",
   "execution_count": 47,
   "metadata": {},
   "outputs": [
    {
     "name": "stdout",
     "output_type": "stream",
     "text": [
      "Success!\n"
     ]
    }
   ],
   "source": [
    "get_status(response)"
   ]
  },
  {
   "cell_type": "code",
   "execution_count": 56,
   "metadata": {},
   "outputs": [
    {
     "data": {
      "text/plain": [
       "{'base': 'GBP',\n",
       " 'rates': {'USD': 1.2572581827, 'JPY': 136.7300688893, 'EUR': 1.1274846944},\n",
       " 'date': '2019-05-31'}"
      ]
     },
     "execution_count": 56,
     "metadata": {},
     "output_type": "execute_result"
    }
   ],
   "source": [
    "response.json()"
   ]
  },
  {
   "cell_type": "markdown",
   "metadata": {},
   "source": [
    "## From json to dataframe\n",
    "\n",
    "Once you loaded the data you need, you can turn the json into a dataframe as you would do with a dictionary"
   ]
  },
  {
   "cell_type": "code",
   "execution_count": 59,
   "metadata": {},
   "outputs": [],
   "source": [
    "my_rates_df = pd.DataFrame(response.json())"
   ]
  },
  {
   "cell_type": "code",
   "execution_count": 60,
   "metadata": {},
   "outputs": [
    {
     "data": {
      "text/html": [
       "<div>\n",
       "<style scoped>\n",
       "    .dataframe tbody tr th:only-of-type {\n",
       "        vertical-align: middle;\n",
       "    }\n",
       "\n",
       "    .dataframe tbody tr th {\n",
       "        vertical-align: top;\n",
       "    }\n",
       "\n",
       "    .dataframe thead th {\n",
       "        text-align: right;\n",
       "    }\n",
       "</style>\n",
       "<table border=\"1\" class=\"dataframe\">\n",
       "  <thead>\n",
       "    <tr style=\"text-align: right;\">\n",
       "      <th></th>\n",
       "      <th>base</th>\n",
       "      <th>rates</th>\n",
       "      <th>date</th>\n",
       "    </tr>\n",
       "  </thead>\n",
       "  <tbody>\n",
       "    <tr>\n",
       "      <th>EUR</th>\n",
       "      <td>GBP</td>\n",
       "      <td>1.127485</td>\n",
       "      <td>2019-05-31</td>\n",
       "    </tr>\n",
       "    <tr>\n",
       "      <th>JPY</th>\n",
       "      <td>GBP</td>\n",
       "      <td>136.730069</td>\n",
       "      <td>2019-05-31</td>\n",
       "    </tr>\n",
       "    <tr>\n",
       "      <th>USD</th>\n",
       "      <td>GBP</td>\n",
       "      <td>1.257258</td>\n",
       "      <td>2019-05-31</td>\n",
       "    </tr>\n",
       "  </tbody>\n",
       "</table>\n",
       "</div>"
      ],
      "text/plain": [
       "    base       rates        date\n",
       "EUR  GBP    1.127485  2019-05-31\n",
       "JPY  GBP  136.730069  2019-05-31\n",
       "USD  GBP    1.257258  2019-05-31"
      ]
     },
     "execution_count": 60,
     "metadata": {},
     "output_type": "execute_result"
    }
   ],
   "source": [
    "my_rates_df.head()"
   ]
  },
  {
   "cell_type": "markdown",
   "metadata": {},
   "source": [
    "## Authentication\n",
    "Authentication helps a service understand who you are. Typically, you provide your credentials to a server by passing data through the Authorization header or a custom header defined by the service. All the request functions you’ve seen to this point provide a parameter called auth, which allows you to pass your credentials.\n",
    "\n",
    "When you pass your username and password in a tuple to the auth parameter, requests is applying the credentials using HTTP’s Basic access authentication scheme under the hood.\n",
    "\n",
    "Therefore, you could make the same request by passing explicit Basic authentication credentials using HTTPBasicAuth:\n",
    "\n",
    "Below is an example\n"
   ]
  },
  {
   "cell_type": "code",
   "execution_count": 53,
   "metadata": {},
   "outputs": [],
   "source": [
    "# Basic Authentication\n",
    "    #requests.get('https://api.github.com/user', auth=HTTPBasicAuth('user', 'pass'))\n",
    "    #requests.get('https://api.github.com/user', auth=('user', 'pass'))\n",
    "\n",
    "# Digest Authentication\n",
    "    #url = 'http://httpbin.org/digest-auth/auth/user/pass'\n",
    "    #requests.get(url, auth=HTTPDigestAuth('user', 'pass'))\n",
    "\n",
    "# OAuth2 Authentication????requests-oauthlib\n",
    "    #url = 'https://api.twitter.com/1.1/account/verify_credentials.json'\n",
    "    #auth = OAuth2('YOUR_APP_KEY', 'YOUR_APP_SECRET', 'USER_OAUTH_TOKEN')\n",
    "    #requests.get(url, auth=auth) '''"
   ]
  },
  {
   "cell_type": "markdown",
   "metadata": {},
   "source": [
    "You can also use the request headers.You pass a dictionary of HTTP headers to get() using the headers parameter. \n",
    "\n",
    "headers = { 'Authorization' : 'Token ' + token }\n",
    "\n"
   ]
  }
 ],
 "metadata": {
  "kernelspec": {
   "display_name": "Python 3",
   "language": "python",
   "name": "python3"
  },
  "language_info": {
   "codemirror_mode": {
    "name": "ipython",
    "version": 3
   },
   "file_extension": ".py",
   "mimetype": "text/x-python",
   "name": "python",
   "nbconvert_exporter": "python",
   "pygments_lexer": "ipython3",
   "version": "3.7.1"
  }
 },
 "nbformat": 4,
 "nbformat_minor": 2
}
